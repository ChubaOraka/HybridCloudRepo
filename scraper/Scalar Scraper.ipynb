{
 "cells": [
  {
   "cell_type": "markdown",
   "metadata": {},
   "source": [
    "## Scraper code"
   ]
  },
  {
   "cell_type": "code",
   "execution_count": 1,
   "metadata": {},
   "outputs": [],
   "source": [
    "from libs.article import Article\n",
    "\n",
    "import re\n",
    "import requests\n",
    "\n",
    "from bs4 import BeautifulSoup\n",
    "from sqlalchemy.orm import sessionmaker\n",
    "\n",
    "from libs.sqlcreator import create_alchemy_engine\n",
    "from libs.multi_thread import multi_thread"
   ]
  },
  {
   "cell_type": "code",
   "execution_count": 2,
   "metadata": {},
   "outputs": [],
   "source": [
    "import string\n",
    "\n",
    "from collections import Counter\n",
    "from sklearn.feature_extraction.stop_words import ENGLISH_STOP_WORDS\n",
    "\n",
    "def get_most_common(text):\n",
    "    exclude = set(string.punctuation)\n",
    "    text_nopunct = ''.join(ch for ch in text if ch not in exclude)\n",
    "\n",
    "    words = text_nopunct.lower().split(\" \")\n",
    "    words = [word for word in words if word not in ENGLISH_STOP_WORDS and len(word) > 1]\n",
    "\n",
    "    return [word for word,count in list(Counter(words).most_common(15))]\n",
    "\n",
    "\n",
    "with open(\"npr_article_572945894.txt\") as file_hdl:\n",
    "    article_text = file_hdl.read()\n",
    "    \n",
    "title = article_text.split(\"\\n\")[0]\n",
    "url = \"npr.org/testing\"\n",
    "\n",
    "most_common = get_most_common(article_text)\n"
   ]
  },
  {
   "cell_type": "code",
   "execution_count": 3,
   "metadata": {},
   "outputs": [],
   "source": [
    "def get_text(soup):\n",
    "    text = \"\"\n",
    "    for paragraph in soup.find_all('p'):\n",
    "        if not paragraph.has_attr('class') and not paragraph.findChildren('b'):\n",
    "            text += paragraph.get_text() + \"\\n\\n\"\n",
    "            \n",
    "    return text"
   ]
  },
  {
   "cell_type": "code",
   "execution_count": 4,
   "metadata": {},
   "outputs": [],
   "source": [
    "def get_npr_urls(soup):\n",
    "    \n",
    "    pattern = r'20[\\d]{2}/[\\d]{1,2}/[\\d]{1,2}/[\\d]+/'\n",
    "    \n",
    "    urls = []\n",
    "    for link in soup.find_all('a', href=True):\n",
    "        url = link['href']\n",
    "        if (url.startswith('https://www.npr.org/')):\n",
    "            if re.search(pattern, url):\n",
    "                urls.append(url)\n",
    "        \n",
    "    return urls"
   ]
  },
  {
   "cell_type": "code",
   "execution_count": 5,
   "metadata": {},
   "outputs": [],
   "source": [
    "def get_title(soup):\n",
    "    title = \"\"\n",
    "    #find href with class == title, then get b\n",
    "    for link in soup.find_all('a'):\n",
    "        if link.has_attr('class'):\n",
    "            if link['class'][0] == \"title\":\n",
    "                title = link.findChildren('b')[0].get_text()\n",
    "    \n",
    "    return title"
   ]
  },
  {
   "cell_type": "code",
   "execution_count": 6,
   "metadata": {},
   "outputs": [],
   "source": [
    "def get_details(url):\n",
    "    pattern = r'20[\\d]{2}/[\\d]{1,2}/[\\d]{1,2}/[\\d]+/'\n",
    "    \n",
    "    matchObject = re.search(pattern, url, flags=0)\n",
    "    match_split = matchObject[0].split(\"/\")\n",
    "    date = match_split[0] + \"-\" + match_split[1] + \"-\" + match_split[2]\n",
    "    article_id = match_split[3]\n",
    "    \n",
    "    return date, article_id"
   ]
  },
  {
   "cell_type": "code",
   "execution_count": 7,
   "metadata": {},
   "outputs": [],
   "source": [
    "def scrape_url(url):\n",
    "    soup = BeautifulSoup(requests.get(url).text, 'html.parser')\n",
    "\n",
    "    links = get_npr_urls(soup)\n",
    "\n",
    "    urls = [x for x in get_npr_urls(soup)]\n",
    "\n",
    "    text = get_text(soup)\n",
    "\n",
    "    return_dict = {\"urls\": links}\n",
    "    if len(text) > 100:\n",
    "        title = get_title(soup)\n",
    "        date, article_id = get_details(url)\n",
    "\n",
    "        return_dict[\"article\"] = Article(title, text, url, get_most_common(text), date)\n",
    "        \n",
    "    return return_dict"
   ]
  },
  {
   "cell_type": "code",
   "execution_count": 8,
   "metadata": {},
   "outputs": [],
   "source": [
    "def is_url_in_db(session, url):\n",
    "    return session.query(Article).filter(Article.url == url).count() > 0"
   ]
  },
  {
   "cell_type": "code",
   "execution_count": 9,
   "metadata": {},
   "outputs": [
    {
     "data": {
      "text/plain": [
       "'Click here if you don\\'t see the video player in this story.\\n\\nUpdated at 5:24 p.m. ET\\n\\nPresident Trump and Vice President Pence spoke to the National Rifle Association at the organization\\'s annual meeting in Dallas on Friday — renewing a political partnership that was briefly tested by the deadly school shooting in Parkland, Fla.\\n\\nTrump said he had been warned by political advisers that appearing before the NRA might not be popular in the current climate. But he brushed those cautions aside.\\n\\n\"You know what I said? \\'Bye-bye. Got to get on the plane,\\' \" Trump told the cheering crowd. \"Because we have to do the right thing\"\\n\\nIt\\'s the fourth year in a row Trump has addressed the gun rights organization, which was a strong backer of his 2016 campaign. Last year was the first time a sitting president had addressed the group since Ronald Reagan did so in 1983.\\n\\n\"The people in this hall have never taken our freedom for granted,\" Trump said. \"Thanks to your activism and dedication, you have an administration fighting to protect your Second Amendment.\"\\n\\nThe friendly audience was a balm for the president, who has been frustrated in recent days by fresh revelations about the money paid on his behalf to porn star Stormy Daniels.\\n\\n\"This country is right now running so smooth,\" the president told reporters traveling with him to Dallas. \"And to be bringing up that kind of crap and to be bringing up witch hunts, all the time, that\\'s all you want to talk about.\"\\n\\nTrump\\'s full-throated support for the NRA appeared to soften somewhat in February, after the school shooting at Marjory Stoneman Douglas High School that killed 17 people. After meeting with families of some of the victims, Trump flirted with gun control measures the NRA opposes, such as raising the minimum age for long gun purchasers to 21.\\n\\nAt a White House meeting with lawmakers, Trump even criticized his fellow Republicans for their timid approach to gun control legislation, suggesting they were \"afraid of the NRA.\"\\n\\nBut the administration ultimately aligned itself with the gun lobby, rejecting all but the mildest gun control measures while endorsing the idea of arming teachers and other school employees to serve as volunteer marshals.\\n\\n\"The quickest way to stop a bad guy with a gun is a good guy with a gun,\" Pence said Friday, echoing a favorite NRA slogan.\\n\\nTrump also adopted NRA rhetoric, noting that strict gun laws in France failed to stop the deadly attack on the Bataclan concert hall and other Paris venues in 2015. Researchers have noted that gun deaths in other developed countries are a tiny fraction of those in the U.S.\\n\\nWhile state lawmakers in Florida adopted a higher age limit for gun buyers, action at the federal level was shunted to a new school safety commission, which has no deadline to report.\\n\\nTrump stopped short of calling for universal background checks, though he endorsed a bill making improvements to the federal database used to screen would-be gun buyers. He also supported the Stop School Violence Act, which aims to identify troubled young people but makes no mention of guns.\\n\\nThe president did distance himself from one of the NRA\\'s top legislative priorities: a bill to make concealed-carry permits from any state valid nationwide. While the GOP-controlled House passed the measure, Trump argued it\\'s a non-starter in the closely divided Senate.\\n\\nTrump has also encouraged states to pass so-called \"red flag\" laws, which allow law enforcement to temporarily take guns away from people judged to be a threat to themselves or others.\\n\\n\"Law-abiding gun owners want to keep firearms out of the hands of those who pose a danger to themselves and to others,\" Trump said Friday.\\n\\nThe NRA has opposed such laws in the past.\\n\\nIn his remarks on Friday, Pence acknowledged that the school shooting in Florida and other attacks have left the nation \"searching for answers.\"\\n\\n\"We mourn with those who mourn and grieve with those who grieve,\" the vice president said. \"But we also resolve to confront this menace with all our strength. And we are doing just that under the leadership of this president.\"\\n\\nA previous version of this story incorrectly said the series of attacks on the Bataclan concert hall and other Paris venues took place in 2016. The attacks took place in November 2015. Additionally, a previous correction misspelled Bataclan as Baraclan.\\n\\nA previous version of this story incorrectly said the series of attacks on the Bataclan concert hall and other Paris venues took place in 2016. The attacks took place in November 2015. Additionally, a previous correction misspelled Bataclan as Baraclan.\\n\\n'"
      ]
     },
     "execution_count": 9,
     "metadata": {},
     "output_type": "execute_result"
    }
   ],
   "source": [
    "article_dict = scrape_url(\"https://www.npr.org/2018/05/04/608323118/in-wake-of-school-shooting-trump-pence-to-address-nra\")\n",
    "article_dict[\"article\"].text"
   ]
  },
  {
   "cell_type": "code",
   "execution_count": 10,
   "metadata": {},
   "outputs": [],
   "source": [
    "##############\n",
    "## \n",
    "\n",
    "start_url = \"https://www.npr.org/\"\n",
    "traversed_urls = set()\n",
    "\n",
    "to_traverse = set()\n",
    "to_traverse.add(start_url)"
   ]
  },
  {
   "cell_type": "code",
   "execution_count": 11,
   "metadata": {},
   "outputs": [],
   "source": [
    "engine = create_alchemy_engine()\n",
    "\n",
    "Session = sessionmaker(bind=engine)\n",
    "session = Session()"
   ]
  },
  {
   "cell_type": "code",
   "execution_count": 12,
   "metadata": {},
   "outputs": [
    {
     "data": {
      "text/plain": [
       "0"
      ]
     },
     "execution_count": 12,
     "metadata": {},
     "output_type": "execute_result"
    }
   ],
   "source": [
    "for url in session.query(Article.url).distinct():\n",
    "    traversed_urls.add(url)\n",
    "len(traversed_urls)"
   ]
  },
  {
   "cell_type": "code",
   "execution_count": 19,
   "metadata": {},
   "outputs": [
    {
     "name": "stdout",
     "output_type": "stream",
     "text": [
      "DB count: 30004 Traversed: 33904 Queue: 21970\n",
      "DB count: 30089 Traversed: 34004 Queue: 21997\n",
      "DB count: 30177 Traversed: 34104 Queue: 21968\n",
      "DB count: 30264 Traversed: 34204 Queue: 22004\n",
      "DB count: 30350 Traversed: 34304 Queue: 22050\n",
      "DB count: 30442 Traversed: 34404 Queue: 22093\n",
      "DB count: 30530 Traversed: 34504 Queue: 22107\n",
      "DB count: 30620 Traversed: 34604 Queue: 22118\n",
      "DB count: 30709 Traversed: 34704 Queue: 22079\n",
      "DB count: 30798 Traversed: 34804 Queue: 22045\n",
      "DB count: 30887 Traversed: 34904 Queue: 22094\n",
      "DB count: 30975 Traversed: 35004 Queue: 22086\n",
      "DB count: 31061 Traversed: 35104 Queue: 22102\n",
      "DB count: 31147 Traversed: 35204 Queue: 22166\n",
      "DB count: 31234 Traversed: 35304 Queue: 22197\n",
      "DB count: 31315 Traversed: 35404 Queue: 22256\n",
      "DB count: 31400 Traversed: 35504 Queue: 22273\n",
      "DB count: 31486 Traversed: 35604 Queue: 22359\n",
      "DB count: 31579 Traversed: 35704 Queue: 22363\n",
      "DB count: 31666 Traversed: 35804 Queue: 22442\n",
      "DB count: 31751 Traversed: 35904 Queue: 22536\n",
      "DB count: 31841 Traversed: 36004 Queue: 22518\n",
      "DB count: 31931 Traversed: 36104 Queue: 22504\n",
      "DB count: 32016 Traversed: 36204 Queue: 22496\n",
      "DB count: 32103 Traversed: 36304 Queue: 22542\n",
      "DB count: 32190 Traversed: 36404 Queue: 22584\n",
      "DB count: 32278 Traversed: 36504 Queue: 22632\n",
      "DB count: 32367 Traversed: 36604 Queue: 22664\n",
      "DB count: 32449 Traversed: 36704 Queue: 22691\n",
      "DB count: 32538 Traversed: 36804 Queue: 22704\n",
      "DB count: 32627 Traversed: 36904 Queue: 22693\n",
      "DB count: 32716 Traversed: 37004 Queue: 22675\n",
      "DB count: 32800 Traversed: 37104 Queue: 22705\n",
      "DB count: 32887 Traversed: 37204 Queue: 22708\n",
      "DB count: 32971 Traversed: 37304 Queue: 22749\n",
      "DB count: 33055 Traversed: 37404 Queue: 22836\n",
      "DB count: 33147 Traversed: 37504 Queue: 22827\n",
      "DB count: 33231 Traversed: 37604 Queue: 22880\n",
      "DB count: 33315 Traversed: 37704 Queue: 22936\n",
      "DB count: 33404 Traversed: 37804 Queue: 22932\n",
      "DB count: 33489 Traversed: 37904 Queue: 22983\n",
      "DB count: 33576 Traversed: 38004 Queue: 23012\n",
      "DB count: 33664 Traversed: 38104 Queue: 22988\n",
      "DB count: 33751 Traversed: 38204 Queue: 22993\n",
      "DB count: 33839 Traversed: 38304 Queue: 23027\n",
      "DB count: 33925 Traversed: 38404 Queue: 23065\n",
      "DB count: 34011 Traversed: 38504 Queue: 23075\n",
      "DB count: 34092 Traversed: 38604 Queue: 23100\n",
      "DB count: 34174 Traversed: 38704 Queue: 23143\n",
      "DB count: 34260 Traversed: 38804 Queue: 23128\n",
      "DB count: 34341 Traversed: 38904 Queue: 23170\n",
      "DB count: 34425 Traversed: 39004 Queue: 23213\n",
      "DB count: 34511 Traversed: 39104 Queue: 23219\n",
      "DB count: 34595 Traversed: 39204 Queue: 23297\n",
      "DB count: 34685 Traversed: 39304 Queue: 23287\n",
      "DB count: 34771 Traversed: 39404 Queue: 23315\n",
      "DB count: 34858 Traversed: 39504 Queue: 23338\n",
      "DB count: 34951 Traversed: 39604 Queue: 23278\n",
      "DB count: 35043 Traversed: 39704 Queue: 23225\n",
      "DB count: 35126 Traversed: 39804 Queue: 23227\n",
      "DB count: 35213 Traversed: 39904 Queue: 23281\n",
      "DB count: 35299 Traversed: 40004 Queue: 23316\n",
      "DB count: 35390 Traversed: 40104 Queue: 23329\n",
      "DB count: 35475 Traversed: 40204 Queue: 23346\n",
      "DB count: 35564 Traversed: 40304 Queue: 23383\n",
      "DB count: 35651 Traversed: 40404 Queue: 23403\n",
      "DB count: 35734 Traversed: 40504 Queue: 23464\n",
      "DB count: 35815 Traversed: 40604 Queue: 23521\n",
      "DB count: 35897 Traversed: 40704 Queue: 23635\n",
      "DB count: 35985 Traversed: 40804 Queue: 23612\n",
      "DB count: 36070 Traversed: 40904 Queue: 23621\n",
      "DB count: 36150 Traversed: 41004 Queue: 23699\n",
      "DB count: 36231 Traversed: 41104 Queue: 23740\n",
      "DB count: 36313 Traversed: 41204 Queue: 23823\n",
      "DB count: 36398 Traversed: 41304 Queue: 23837\n",
      "DB count: 36478 Traversed: 41404 Queue: 23931\n",
      "DB count: 36562 Traversed: 41504 Queue: 23992\n",
      "DB count: 36646 Traversed: 41604 Queue: 23989\n",
      "DB count: 36739 Traversed: 41704 Queue: 23941\n",
      "DB count: 36829 Traversed: 41804 Queue: 23942\n",
      "DB count: 36915 Traversed: 41904 Queue: 23967\n",
      "DB count: 37002 Traversed: 42004 Queue: 23994\n",
      "DB count: 37087 Traversed: 42104 Queue: 24000\n",
      "DB count: 37170 Traversed: 42204 Queue: 23975\n",
      "DB count: 37253 Traversed: 42304 Queue: 23961\n",
      "DB count: 37337 Traversed: 42404 Queue: 23960\n",
      "DB count: 37426 Traversed: 42504 Queue: 23974\n",
      "DB count: 37513 Traversed: 42604 Queue: 23996\n",
      "DB count: 37603 Traversed: 42704 Queue: 23986\n",
      "DB count: 37687 Traversed: 42804 Queue: 24009\n",
      "DB count: 37773 Traversed: 42904 Queue: 24038\n",
      "DB count: 37865 Traversed: 43004 Queue: 24016\n",
      "DB count: 37945 Traversed: 43104 Queue: 24080\n",
      "DB count: 38032 Traversed: 43204 Queue: 24117\n",
      "DB count: 38114 Traversed: 43304 Queue: 24104\n",
      "DB count: 38191 Traversed: 43404 Queue: 24112\n",
      "DB count: 38277 Traversed: 43504 Queue: 24141\n",
      "DB count: 38357 Traversed: 43604 Queue: 24166\n",
      "DB count: 38435 Traversed: 43704 Queue: 24204\n",
      "DB count: 38524 Traversed: 43804 Queue: 24238\n",
      "DB count: 38608 Traversed: 43904 Queue: 24226\n",
      "DB count: 38697 Traversed: 44004 Queue: 24239\n",
      "DB count: 38787 Traversed: 44104 Queue: 24244\n",
      "DB count: 38873 Traversed: 44204 Queue: 24283\n",
      "DB count: 38964 Traversed: 44304 Queue: 24332\n",
      "DB count: 39059 Traversed: 44404 Queue: 24298\n",
      "DB count: 39144 Traversed: 44504 Queue: 24333\n",
      "DB count: 39231 Traversed: 44604 Queue: 24316\n",
      "DB count: 39316 Traversed: 44704 Queue: 24323\n",
      "DB count: 39406 Traversed: 44804 Queue: 24284\n",
      "DB count: 39486 Traversed: 44904 Queue: 24355\n",
      "DB count: 39576 Traversed: 45004 Queue: 24363\n",
      "DB count: 39663 Traversed: 45104 Queue: 24363\n",
      "DB count: 39752 Traversed: 45204 Queue: 24405\n",
      "DB count: 39842 Traversed: 45304 Queue: 24404\n",
      "DB count: 39928 Traversed: 45404 Queue: 24371\n"
     ]
    }
   ],
   "source": [
    "count = session.query(Article).count()\n",
    "\n",
    "while len(to_traverse) > 0 and count < 40000:\n",
    "    \n",
    "    print(\"DB count:\", count, \"Traversed:\", len(traversed_urls), \"Queue:\", len(to_traverse))\n",
    "    ## Create a list of URLS to traverse\n",
    "    curr_traverse = []\n",
    "    while len(curr_traverse) < 100 and len(to_traverse) > 0:\n",
    "        url = to_traverse.pop()\n",
    "        if is_url_in_db(session, url):\n",
    "            continue\n",
    "        curr_traverse.append(url)\n",
    "    \n",
    "    ## Pass that list to multi-threading\n",
    "    results = multi_thread(scrape_url, curr_traverse, 10)\n",
    "    \n",
    "    ## Multi-threading should return dictionaries mapping to results and to discovered URLs\n",
    "    traversed_urls.update(curr_traverse)\n",
    "    \n",
    "    ## Create class for DB that maintains unique set of to_traverse and traverse\n",
    "    for result in results:\n",
    "        result_dict = result[1]\n",
    "        if \"article\" in result_dict:\n",
    "            session.add(result_dict[\"article\"])\n",
    "        \n",
    "        to_traverse = to_traverse.union(set(result_dict[\"urls\"]) - traversed_urls)\n",
    "        \n",
    "    count = session.query(Article).count()\n",
    "    session.commit()        \n",
    "              "
   ]
  },
  {
   "cell_type": "code",
   "execution_count": 24,
   "metadata": {},
   "outputs": [],
   "source": [
    "import pickle\n",
    "\n",
    "with open('traversed_set.pkl', 'wb') as file_hdl:\n",
    "    pickle.dump(traversed_urls, file_hdl)\n",
    "with open('to_traverse.pkl', 'wb') as file_hdl:\n",
    "    pickle.dump(to_traverse, file_hdl)    "
   ]
  },
  {
   "cell_type": "code",
   "execution_count": 14,
   "metadata": {},
   "outputs": [
    {
     "data": {
      "text/plain": [
       "10060"
      ]
     },
     "execution_count": 14,
     "metadata": {},
     "output_type": "execute_result"
    }
   ],
   "source": [
    "rows = session.query(Article).count()\n",
    "rows"
   ]
  },
  {
   "cell_type": "code",
   "execution_count": 17,
   "metadata": {},
   "outputs": [
    {
     "data": {
      "text/plain": [
       "10341"
      ]
     },
     "execution_count": 17,
     "metadata": {},
     "output_type": "execute_result"
    }
   ],
   "source": [
    "len(to_traverse)"
   ]
  },
  {
   "cell_type": "code",
   "execution_count": null,
   "metadata": {},
   "outputs": [],
   "source": []
  },
  {
   "cell_type": "code",
   "execution_count": 16,
   "metadata": {},
   "outputs": [
    {
     "name": "stdout",
     "output_type": "stream",
     "text": [
      "Campaign Finance Law And The Stormy Daniels Scandal https://www.npr.org/2018/05/05/608723641/campaign-finance-law-and-the-stormy-daniels-scandal\n",
      "Mueller Probe Update https://www.npr.org/2018/05/05/608723571/mueller-probe-update\n",
      "A New Church Will Rise After A Shooting Shakes The Community https://www.npr.org/2018/05/05/608723627/a-new-church-will-rise-after-a-shooting-shakes-the-community\n",
      "Exploring 'The Heritage' Of Black Athletes https://www.npr.org/2018/05/05/608723592/exploring-the-heritage-of-black-athletes\n",
      "Saturday Sports: NBA Semifinals, Kentucky Derby https://www.npr.org/2018/05/05/608723655/saturday-sports-nba-semifinals-kentucky-derby\n",
      "Gun Control Activists Protest NRA In Dallas https://www.npr.org/2018/05/05/608723620/gun-control-activists-protest-nra-in-dallas\n",
      "Zora Neale Hurston's 'Barracoon' Gets Published, More Than 60 Years Later https://www.npr.org/2018/05/05/608723606/zora-neale-hurstons-barracoon-gets-published-more-than-60-years-later\n",
      "Trump Administration Talks Trade With China https://www.npr.org/2018/05/05/608723634/trump-administration-talks-trade-with-china\n",
      "Pipa Virtuoso Wu Man Brings Ancient Chinese Music To The Present https://www.npr.org/2018/05/05/608517814/pipa-virtuoso-wu-man-brings-ancient-chinese-music-to-the-present\n",
      "The Trump And Rudy Show https://www.npr.org/2018/05/05/608723613/the-trump-and-rudy-show\n"
     ]
    }
   ],
   "source": [
    "from sqlalchemy import desc\n",
    "\n",
    "#for instance in session.query(Article).order_by(desc(Article.date)):\n",
    "#    print(instance.title, instance.url)\n",
    "\n",
    "for instance in session.query(Article).order_by(desc(Article.date)).limit(10).offset(10):\n",
    "    print(instance.title, instance.url)"
   ]
  },
  {
   "cell_type": "code",
   "execution_count": null,
   "metadata": {},
   "outputs": [],
   "source": []
  }
 ],
 "metadata": {
  "kernelspec": {
   "display_name": "Python (scalar)",
   "language": "python",
   "name": "scalar-crawler"
  },
  "language_info": {
   "codemirror_mode": {
    "name": "ipython",
    "version": 3
   },
   "file_extension": ".py",
   "mimetype": "text/x-python",
   "name": "python",
   "nbconvert_exporter": "python",
   "pygments_lexer": "ipython3",
   "version": "3.6.4"
  }
 },
 "nbformat": 4,
 "nbformat_minor": 2
}
